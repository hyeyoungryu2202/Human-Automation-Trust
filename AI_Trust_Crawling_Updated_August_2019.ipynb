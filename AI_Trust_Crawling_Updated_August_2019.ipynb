{
 "cells": [
  {
   "cell_type": "markdown",
   "metadata": {},
   "source": [
    "The first recommender system cluster included the following categories: artistic areas, food, grocery, electronic devices, and clothing. The second recommender system cluster was composed of categories such as hotels, flights, dating, and cosmetics. The third recommender system cluster was constituted by categories including schools, medical services, real estate, and marriage."
   ]
  },
  {
   "cell_type": "markdown",
   "metadata": {},
   "source": [
    "# Trustpilot Crawling"
   ]
  },
  {
   "cell_type": "code",
   "execution_count": 11,
   "metadata": {},
   "outputs": [],
   "source": [
    "def trustpilot_url_crawler(category, url_list):\n",
    "    from selenium import webdriver\n",
    "    import time\n",
    "    from selenium.common.exceptions import NoSuchElementException\n",
    "    try:\n",
    "        driver = webdriver.Chrome('/Users/angieryu2202/Downloads/chromedriver')\n",
    "        driver.implicitly_wait(3)\n",
    "        driver.get('https://www.trustpilot.com/')\n",
    "        driver.find_element_by_xpath(\"/html/body/main/section[1]/div/form/input\").click()\n",
    "        driver.find_element_by_xpath(\"/html/body/main/section[1]/div/form/input\").send_keys(category)\n",
    "        driver.find_element_by_xpath(\"/html/body/main/section[1]/div/form/button/span[1]\").click()\n",
    "        time.sleep(3)\n",
    "        driver.find_element_by_xpath('//*[@id=\"wrapper\"]/main/div/section/div/div[1]/h3/a').click()\n",
    "        time.sleep(3)\n",
    "        globals()[str(url_list)].append(str(driver.current_url))\n",
    "    except NoSuchElementException:\n",
    "        pass"
   ]
  },
  {
   "cell_type": "code",
   "execution_count": 14,
   "metadata": {
    "scrolled": true
   },
   "outputs": [],
   "source": [
    "trustpilot_cluster1_urls = []\n",
    "vods = ['netflix', 'amazon prime', 'hulu', 'HBONOW', 'sling tv', 'sony playstation vue', 'fubo tv', 'cbs all access']\n",
    "restaurants = ['yelp', 'zomato', 'opentable', 'zagat', 'tripadvisor', 'gayot']\n",
    "\n",
    "for vod in vods:\n",
    "    trustpilot_url_crawler(vod, 'trustpilot_cluster1_urls')\n",
    "for restaurant in restaurants:\n",
    "    trustpilot_url_crawler(restaurant, 'trustpilot_cluster1_urls')"
   ]
  },
  {
   "cell_type": "code",
   "execution_count": 27,
   "metadata": {},
   "outputs": [],
   "source": [
    "trustpilot_cluster2_urls = []\n",
    "hotels_flights = ['airfarewatchdog', 'google flights', 'hipmunk', 'hopper', 'kayak', 'momondo', 'priceline', 'skyscanner', 'yapta', 'airbnb', 'booking.com', 'homeaway', 'hostels.com', 'hostelworld', 'jetsetter', 'VRBO', 'expedia', 'tripadvisor']\n",
    "datings = ['Bumble', 'Tinder', 'Hinge', 'Coffee Meets Bagel', 'Happn', 'The League', 'Her', 'Clover']\n",
    "\n",
    "for hotel_flight in hotels_flights:\n",
    "    trustpilot_url_crawler(hotel_flight, 'trustpilot_cluster2_urls')\n",
    "for dating in datings:\n",
    "    trustpilot_url_crawler(dating, 'trustpilot_cluster2_urls')"
   ]
  },
  {
   "cell_type": "code",
   "execution_count": 17,
   "metadata": {},
   "outputs": [],
   "source": [
    "trustpilot_cluster3_urls = []\n",
    "marriages = ['OkCupid', 'Match.com', 'eHarmony', 'Plenty of Fish']\n",
    "# https://knowitallnancy.com/know-it-all-nancy/blog/top-4-online-dating-sites-serious-relationships-according-research\n",
    "for marriage in marriages:\n",
    "    trustpilot_url_crawler(marriage, 'trustpilot_cluster3_urls')\n",
    "real_estates = ['Zillow', 'RedFin', 'Homes.com', 'Xome', 'Real Estate by Smarter Agent', 'Century 21', 'HomeSnap', 'Trulia', 'Realtor.com', 'LoopNet', 'Movoto']\n",
    "# https://www.digitaltrends.com/mobile/best-real-estate-apps/\n",
    "for real_estate in real_estates:\n",
    "    trustpilot_url_crawler(real_estate, 'trustpilot_cluster3_urls')"
   ]
  },
  {
   "cell_type": "code",
   "execution_count": 28,
   "metadata": {
    "scrolled": true
   },
   "outputs": [
    {
     "name": "stdout",
     "output_type": "stream",
     "text": [
      "['https://www.trustpilot.com/review/www.netflix.com', 'https://www.trustpilot.com/review/amazonprime.com', 'https://www.trustpilot.com/review/www.hulu.com', 'https://www.trustpilot.com/review/hbonow.com', 'https://www.trustpilot.com/review/sling.com', 'https://www.trustpilot.com/review/fubo.tv', 'https://www.trustpilot.com/review/www.yelp.com', 'https://www.trustpilot.com/review/www.zomato.com', 'https://www.trustpilot.com/review/opentable.com', 'https://www.trustpilot.com/review/www.zagat.com', 'https://www.trustpilot.com/review/www.tripadvisor.com']\n",
      "['https://www.trustpilot.com/review/www.airfarewatchdog.com', 'https://www.trustpilot.com/review/hipmunk.com', 'https://www.trustpilot.com/review/hopper.com', 'https://www.trustpilot.com/review/canoe-kayak-lavernede.com', 'https://www.trustpilot.com/review/www.momondo.com', 'https://www.trustpilot.com/review/www.priceline.com', 'https://www.trustpilot.com/review/www.skyscanner.net', 'https://www.trustpilot.com/review/www.airbnb.com', 'https://www.trustpilot.com/review/www.homeaway.com', 'https://www.trustpilot.com/review/www.hostelworld.com', 'https://www.trustpilot.com/review/www.jetsetter.com', 'https://www.trustpilot.com/review/www.vrbo.com', 'https://www.trustpilot.com/review/expedia-store.com', 'https://www.trustpilot.com/review/www.tripadvisor.com.br', 'https://www.trustpilot.com/review/bumble.com', 'https://www.trustpilot.com/review/tinder.com', 'https://www.trustpilot.com/review/www.osteriet-hinge.dk', 'https://www.trustpilot.com/review/coffeemeetsbagel.com', 'https://www.trustpilot.com/review/happn.com', 'https://www.trustpilot.com/review/www.thetipsterleague.com', 'https://www.trustpilot.com/review/himandherweddingphotography.co.uk', 'https://www.trustpilot.com/review/clover.com']\n",
      "['https://www.trustpilot.com/review/www.okcupid.com', 'https://www.trustpilot.com/review/www.eharmony.co.uk', 'https://www.trustpilot.com/review/plentyoffish.com', 'https://www.trustpilot.com/review/zillow.com', 'https://www.trustpilot.com/review/redfinsangling.co.uk', 'https://www.trustpilot.com/review/xometry.com', 'https://www.trustpilot.com/review/www.c21stores.com', 'https://www.trustpilot.com/review/homesnap.com', 'https://www.trustpilot.com/review/trulia.com', 'https://www.trustpilot.com/review/loopnet.com', 'https://www.trustpilot.com/review/movoto.com']\n"
     ]
    }
   ],
   "source": [
    "print(trustpilot_cluster1_urls)\n",
    "print(trustpilot_cluster2_urls)\n",
    "print(trustpilot_cluster3_urls)"
   ]
  },
  {
   "cell_type": "code",
   "execution_count": 19,
   "metadata": {
    "scrolled": true
   },
   "outputs": [
    {
     "name": "stdout",
     "output_type": "stream",
     "text": [
      "['https://www.trustpilot.com/review/www.netflix.com', 'https://www.trustpilot.com/review/amazonprime.com', 'https://www.trustpilot.com/review/www.hulu.com', 'https://www.trustpilot.com/review/hbonow.com', 'https://www.trustpilot.com/review/sling.com', 'https://www.trustpilot.com/review/fubo.tv', 'https://www.trustpilot.com/review/www.yelp.com', 'https://www.trustpilot.com/review/www.zomato.com', 'https://www.trustpilot.com/review/opentable.com', 'https://www.trustpilot.com/review/www.zagat.com', 'https://www.trustpilot.com/review/www.tripadvisor.com']\n"
     ]
    }
   ],
   "source": [
    "trustpilot_cluster1_urls[1] = 'https://www.trustpilot.com/review/amazonprime.com'\n",
    "trustpilot_cluster1_urls[8] = 'https://www.trustpilot.com/review/opentable.com'\n",
    "trustpilot_cluster1_urls[10] = 'https://www.trustpilot.com/review/www.tripadvisor.com'\n",
    "print(trustpilot_cluster1_urls)"
   ]
  },
  {
   "cell_type": "code",
   "execution_count": 29,
   "metadata": {},
   "outputs": [
    {
     "name": "stdout",
     "output_type": "stream",
     "text": [
      "['https://www.trustpilot.com/review/www.airfarewatchdog.com', 'https://www.trustpilot.com/review/hipmunk.com', 'https://www.trustpilot.com/review/hopper.com', 'https://www.trustpilot.com/review/kayak.com', 'https://www.trustpilot.com/review/www.momondo.com', 'https://www.trustpilot.com/review/www.priceline.com', 'https://www.trustpilot.com/review/www.skyscanner.net', 'https://www.trustpilot.com/review/www.airbnb.com', 'https://www.trustpilot.com/review/www.homeaway.com', 'https://www.trustpilot.com/review/www.hostelworld.com', 'https://www.trustpilot.com/review/www.jetsetter.com', 'https://www.trustpilot.com/review/www.vrbo.com', 'https://www.trustpilot.com/review/www.expedia.com', 'https://www.trustpilot.com/review/www.tripadvisor.com', 'https://www.trustpilot.com/review/bumble.com', 'https://www.trustpilot.com/review/tinder.com', 'https://www.trustpilot.com/review/coffeemeetsbagel.com', 'https://www.trustpilot.com/review/happn.com', 'https://www.trustpilot.com/review/clover.com']\n"
     ]
    }
   ],
   "source": [
    "trustpilot_cluster2_urls[3] = 'https://www.trustpilot.com/review/kayak.com'\n",
    "trustpilot_cluster2_urls[12] = 'https://www.trustpilot.com/review/www.expedia.com'\n",
    "trustpilot_cluster2_urls[13] = 'https://www.trustpilot.com/review/www.tripadvisor.com'\n",
    "trustpilot_cluster2_urls.remove('https://www.trustpilot.com/review/www.osteriet-hinge.dk')\n",
    "trustpilot_cluster2_urls.remove('https://www.trustpilot.com/review/himandherweddingphotography.co.uk')\n",
    "trustpilot_cluster2_urls.remove('https://www.trustpilot.com/review/www.thetipsterleague.com')\n",
    "print(trustpilot_cluster2_urls)"
   ]
  },
  {
   "cell_type": "code",
   "execution_count": 30,
   "metadata": {},
   "outputs": [
    {
     "name": "stdout",
     "output_type": "stream",
     "text": [
      "['https://www.trustpilot.com/review/www.okcupid.com', 'https://www.trustpilot.com/review/www.eharmony.com', 'https://www.trustpilot.com/review/plentyoffish.com', 'https://www.trustpilot.com/review/zillow.com', 'https://www.trustpilot.com/review/homesnap.com', 'https://www.trustpilot.com/review/trulia.com', 'https://www.trustpilot.com/review/loopnet.com', 'https://www.trustpilot.com/review/movoto.com']\n"
     ]
    }
   ],
   "source": [
    "trustpilot_cluster3_urls[1] = 'https://www.trustpilot.com/review/www.eharmony.com'\n",
    "trustpilot_cluster3_urls.remove('https://www.trustpilot.com/review/redfinsangling.co.uk')\n",
    "trustpilot_cluster3_urls.remove('https://www.trustpilot.com/review/xometry.com')\n",
    "trustpilot_cluster3_urls.remove('https://www.trustpilot.com/review/www.c21stores.com')\n",
    "print(trustpilot_cluster3_urls)"
   ]
  },
  {
   "cell_type": "code",
   "execution_count": 98,
   "metadata": {},
   "outputs": [],
   "source": [
    "trustpilot_cluster1_recommender_name = ['netflix', 'amazonprime', 'hulu', 'hbonow', 'sling', 'fubo', 'yelp', 'zomato', 'opentable', 'zagat', 'tripadvisor']\n",
    "trustpilot_cluster1_dict = dict(zip(trustpilot_cluster1_recommender_name, trustpilot_cluster1_urls))\n",
    "trustpilot_cluster2_recommender_name = ['airfarewatchdog', 'hipmunk', 'hopper', 'kayak', 'momondo', 'priceline', 'skyscanner', 'airbnb', 'homeaway', 'hostelworld', 'jetsetter', 'vrbo', 'expedia', 'tripadvisor', 'bumble', 'tinder', 'coffeemeetsbagel', 'happn', 'clover']\n",
    "trustpilot_cluster2_dict = dict(zip(trustpilot_cluster2_recommender_name, trustpilot_cluster2_urls))\n",
    "trustpilot_cluster3_recommender_name = ['okcupid', 'eharmony', 'plentyoffish', 'zillow', 'homesnap', 'trulia', 'loopnet', 'movoto']\n",
    "trustpilot_cluster3_dict = dict(zip(trustpilot_cluster3_recommender_name, trustpilot_cluster3_urls))"
   ]
  },
  {
   "cell_type": "code",
   "execution_count": 109,
   "metadata": {},
   "outputs": [],
   "source": [
    "import pandas as pd\n",
    "trustpilot_cluster1_url_df = pd.DataFrame({'name':trustpilot_cluster1_recommender_name, 'url':trustpilot_cluster1_urls})\n",
    "trustpilot_cluster2_url_df = pd.DataFrame({'name':trustpilot_cluster2_recommender_name, 'url':trustpilot_cluster2_urls})\n",
    "trustpilot_cluster3_url_df = pd.DataFrame({'name':trustpilot_cluster3_recommender_name, 'url':trustpilot_cluster3_urls})\n",
    "\n",
    "trustpilot_cluster1_url_df.to_csv('/Users/angieryu2202/Desktop/trustpilot_cluster1_url_df.csv')\n",
    "trustpilot_cluster2_url_df.to_csv('/Users/angieryu2202/Desktop/trustpilot_cluster2_url_df.csv')\n",
    "trustpilot_cluster3_url_df.to_csv('/Users/angieryu2202/Desktop/trustpilot_cluster3_url_df.csv')"
   ]
  },
  {
   "cell_type": "code",
   "execution_count": 83,
   "metadata": {},
   "outputs": [],
   "source": [
    "def trustpilot_review_crawler (recommender_name, url):\n",
    "    from selenium import webdriver\n",
    "    from selenium.common.exceptions import TimeoutException\n",
    "    from selenium.webdriver.support.ui import WebDriverWait\n",
    "    from selenium.webdriver.support import expected_conditions as EC\n",
    "    from selenium.common.exceptions import TimeoutException\n",
    "    from selenium.common.exceptions import NoSuchElementException\n",
    "    from selenium.webdriver.common.by import By\n",
    "    from bs4 import BeautifulSoup\n",
    "\n",
    "    globals()[str(recommender_name)+\"_reviews\"] = []\n",
    "    \n",
    "    driver = webdriver.Chrome('/Users/angieryu2202/Downloads/chromedriver')\n",
    "    driver.implicitly_wait(3)\n",
    "    driver.get(url)\n",
    "    page_source = driver.page_source\n",
    "    soup = BeautifulSoup(page_source, 'lxml')\n",
    "    try:\n",
    "        review_selectors = soup.find_all('div', class_='review-content__body')\n",
    "        for review_selector in review_selectors:\n",
    "            review = review_selector.find('p', class_='review-content__text').get_text()\n",
    "            review = review.strip()\n",
    "            globals()[str(recommender_name)+\"_reviews\"].append(review)\n",
    "    except AttributeError:\n",
    "        pass\n",
    "    while True:\n",
    "        # close banner to click the 'next page' button\n",
    "        try:\n",
    "            driver.find_element_by_xpath(\"/html/body/div[3]/div/a\").click()\n",
    "        except NoSuchElementException:\n",
    "            pass\n",
    "        # click next link\n",
    "        try:\n",
    "            element = WebDriverWait(driver, 6).until(EC.element_to_be_clickable((By.LINK_TEXT, \"Next page\")))\n",
    "            driver.execute_script(\"arguments[0].click();\", element)\n",
    "            #The execute_script() method has 2 parameters. The first is the script, the second is a vararg in which you can place any parameters used in the script. In this case we only need the element as parameter, but since it is a vararg our element is the first in the collection. For example you could also do driver.execute_script(\"arguments[0].click(); arguments[1].click();\" element1, element2) This would click both elements passed\n",
    "        except TimeoutException:\n",
    "            break\n",
    "        driver.get(driver.current_url)\n",
    "        page_source = driver.page_source\n",
    "        soup = BeautifulSoup(page_source, 'lxml')\n",
    "        # grab the data\n",
    "        # review collection\n",
    "        try:\n",
    "            review_selectors = soup.find_all('div', class_='review-content__body')\n",
    "            for review_selector in review_selectors:\n",
    "                review = review_selector.find('p', class_='review-content__text').get_text()\n",
    "                review = review.strip()\n",
    "                globals()[str(recommender_name)+\"_reviews\"].append(review)\n",
    "        except AttributeError:\n",
    "            pass\n",
    "    driver.quit()\n",
    "\n",
    "    print(recommender_name)"
   ]
  },
  {
   "cell_type": "code",
   "execution_count": 65,
   "metadata": {
    "scrolled": true
   },
   "outputs": [
    {
     "name": "stdout",
     "output_type": "stream",
     "text": [
      "netflix\n",
      "amazonprime\n",
      "hulu\n",
      "hbonow\n",
      "sling\n",
      "fubo\n",
      "yelp\n",
      "zomato\n",
      "opentable\n",
      "zagat\n"
     ]
    },
    {
     "ename": "AttributeError",
     "evalue": "'NoneType' object has no attribute 'get_text'",
     "output_type": "error",
     "traceback": [
      "\u001b[0;31m---------------------------------------------------------------------------\u001b[0m",
      "\u001b[0;31mAttributeError\u001b[0m                            Traceback (most recent call last)",
      "\u001b[0;32m<ipython-input-65-ceb21360c846>\u001b[0m in \u001b[0;36m<module>\u001b[0;34m\u001b[0m\n\u001b[1;32m      1\u001b[0m \u001b[0;32mfor\u001b[0m \u001b[0mrecommender_name\u001b[0m\u001b[0;34m,\u001b[0m \u001b[0murl\u001b[0m \u001b[0;32min\u001b[0m \u001b[0mtrustpilot_cluster1_dict\u001b[0m\u001b[0;34m.\u001b[0m\u001b[0mitems\u001b[0m\u001b[0;34m(\u001b[0m\u001b[0;34m)\u001b[0m\u001b[0;34m:\u001b[0m\u001b[0;34m\u001b[0m\u001b[0;34m\u001b[0m\u001b[0m\n\u001b[0;32m----> 2\u001b[0;31m     \u001b[0mtrustpilot_review_crawler\u001b[0m\u001b[0;34m(\u001b[0m\u001b[0mrecommender_name\u001b[0m\u001b[0;34m,\u001b[0m \u001b[0murl\u001b[0m\u001b[0;34m)\u001b[0m\u001b[0;34m\u001b[0m\u001b[0;34m\u001b[0m\u001b[0m\n\u001b[0m",
      "\u001b[0;32m<ipython-input-64-787aebce37e2>\u001b[0m in \u001b[0;36mtrustpilot_review_crawler\u001b[0;34m(recommender_name, url)\u001b[0m\n\u001b[1;32m     18\u001b[0m     \u001b[0mreview_selectors\u001b[0m \u001b[0;34m=\u001b[0m \u001b[0msoup\u001b[0m\u001b[0;34m.\u001b[0m\u001b[0mfind_all\u001b[0m\u001b[0;34m(\u001b[0m\u001b[0;34m'div'\u001b[0m\u001b[0;34m,\u001b[0m \u001b[0mclass_\u001b[0m\u001b[0;34m=\u001b[0m\u001b[0;34m'review-content__body'\u001b[0m\u001b[0;34m)\u001b[0m\u001b[0;34m\u001b[0m\u001b[0;34m\u001b[0m\u001b[0m\n\u001b[1;32m     19\u001b[0m     \u001b[0;32mfor\u001b[0m \u001b[0mreview_selector\u001b[0m \u001b[0;32min\u001b[0m \u001b[0mreview_selectors\u001b[0m\u001b[0;34m:\u001b[0m\u001b[0;34m\u001b[0m\u001b[0;34m\u001b[0m\u001b[0m\n\u001b[0;32m---> 20\u001b[0;31m         \u001b[0mreview\u001b[0m \u001b[0;34m=\u001b[0m \u001b[0mreview_selector\u001b[0m\u001b[0;34m.\u001b[0m\u001b[0mfind\u001b[0m\u001b[0;34m(\u001b[0m\u001b[0;34m'p'\u001b[0m\u001b[0;34m,\u001b[0m \u001b[0mclass_\u001b[0m\u001b[0;34m=\u001b[0m\u001b[0;34m'review-content__text'\u001b[0m\u001b[0;34m)\u001b[0m\u001b[0;34m.\u001b[0m\u001b[0mget_text\u001b[0m\u001b[0;34m(\u001b[0m\u001b[0;34m)\u001b[0m\u001b[0;34m\u001b[0m\u001b[0;34m\u001b[0m\u001b[0m\n\u001b[0m\u001b[1;32m     21\u001b[0m         \u001b[0mreview\u001b[0m \u001b[0;34m=\u001b[0m \u001b[0mreview\u001b[0m\u001b[0;34m.\u001b[0m\u001b[0mstrip\u001b[0m\u001b[0;34m(\u001b[0m\u001b[0;34m)\u001b[0m\u001b[0;34m\u001b[0m\u001b[0;34m\u001b[0m\u001b[0m\n\u001b[1;32m     22\u001b[0m         \u001b[0mglobals\u001b[0m\u001b[0;34m(\u001b[0m\u001b[0;34m)\u001b[0m\u001b[0;34m[\u001b[0m\u001b[0mstr\u001b[0m\u001b[0;34m(\u001b[0m\u001b[0mrecommender_name\u001b[0m\u001b[0;34m)\u001b[0m\u001b[0;34m+\u001b[0m\u001b[0;34m\"_reviews\"\u001b[0m\u001b[0;34m]\u001b[0m\u001b[0;34m.\u001b[0m\u001b[0mappend\u001b[0m\u001b[0;34m(\u001b[0m\u001b[0mreview\u001b[0m\u001b[0;34m)\u001b[0m\u001b[0;34m\u001b[0m\u001b[0;34m\u001b[0m\u001b[0m\n",
      "\u001b[0;31mAttributeError\u001b[0m: 'NoneType' object has no attribute 'get_text'"
     ]
    }
   ],
   "source": [
    "for recommender_name, url in trustpilot_cluster1_dict.items():\n",
    "    trustpilot_review_crawler(recommender_name, url)"
   ]
  },
  {
   "cell_type": "code",
   "execution_count": 84,
   "metadata": {
    "scrolled": false
   },
   "outputs": [
    {
     "name": "stdout",
     "output_type": "stream",
     "text": [
      "tripadvisor\n"
     ]
    }
   ],
   "source": [
    "trustpilot_review_crawler('tripadvisor','https://www.trustpilot.com/review/www.tripadvisor.com')"
   ]
  },
  {
   "cell_type": "code",
   "execution_count": 132,
   "metadata": {},
   "outputs": [],
   "source": [
    "# homesnap은 진짜로 리뷰 0개임\n",
    "trustpilot_recommender_names = []\n",
    "for cluster_recommender_name in trustpilot_cluster1_recommender_name:\n",
    "    trustpilot_recommender_names.append(cluster_recommender_name)\n",
    "for cluster_recommender_name in trustpilot_cluster3_recommender_name:\n",
    "    trustpilot_recommender_names.append(cluster_recommender_name)"
   ]
  },
  {
   "cell_type": "code",
   "execution_count": 133,
   "metadata": {
    "scrolled": true
   },
   "outputs": [],
   "source": [
    "import pandas as pd\n",
    "columns = ['content', 'recommender', 'cluster']\n",
    "for recommender_name in trustpilot_recommender_names:\n",
    "    globals()[recommender_name+\"_reviews_df\"] = pd.DataFrame(columns=columns)\n",
    "    globals()[recommender_name+\"_reviews_df\"]['content'] = globals()[recommender_name+\"_reviews\"]\n",
    "    globals()[recommender_name+\"_reviews_df\"]['recommender'] = recommender_name\n",
    "for recommender_name in trustpilot_cluster1_recommender_name:\n",
    "    globals()[recommender_name+\"_reviews_df\"]['cluster'] = '1'\n",
    "for recommender_name in trustpilot_cluster3_recommender_name:\n",
    "    globals()[recommender_name+\"_reviews_df\"]['cluster'] = '3'"
   ]
  },
  {
   "cell_type": "code",
   "execution_count": 134,
   "metadata": {},
   "outputs": [],
   "source": [
    "trustpilot_frames = []\n",
    "for recommender_name in trustpilot_recommender_names:\n",
    "    trustpilot_frames.append(globals()[recommender_name+\"_reviews_df\"])\n",
    "trustpilot_df = pd.concat(trustpilot_frames)"
   ]
  },
  {
   "cell_type": "code",
   "execution_count": 135,
   "metadata": {},
   "outputs": [],
   "source": [
    "trustpilot_df.to_csv('/Users/angieryu2202/Desktop/trustpilot_cluster1and3_reviews_2019.tsv', sep = '\\t')"
   ]
  },
  {
   "cell_type": "code",
   "execution_count": 121,
   "metadata": {
    "scrolled": true
   },
   "outputs": [
    {
     "name": "stdout",
     "output_type": "stream",
     "text": [
      "netflix review count: 734\n",
      "amazonprime review count: 203\n",
      "hulu review count: 82\n",
      "hbonow review count: 0\n",
      "sling review count: 1548\n",
      "fubo review count: 889\n",
      "yelp review count: 669\n",
      "zomato review count: 205\n",
      "opentable review count: 18\n",
      "zagat review count: 2\n",
      "tripadvisor review count: 1868\n",
      "airfarewatchdog review count: 5\n",
      "hipmunk review count: 1\n",
      "hopper review count: 72\n",
      "kayak review count: 1296\n",
      "momondo review count: 1265\n",
      "priceline review count: 59284\n",
      "skyscanner review count: 3299\n",
      "airbnb review count: 3987\n",
      "homeaway review count: 23402\n",
      "hostelworld review count: 700\n",
      "tripadvisor review count: 1868\n",
      "okcupid review count: 66\n",
      "eharmony review count: 132\n",
      "plentyoffish review count: 16\n",
      "zillow review count: 41\n",
      "homesnap review count: 0\n",
      "trulia review count: 5\n",
      "loopnet review count: 0\n",
      "movoto review count: 146\n"
     ]
    }
   ],
   "source": [
    "for recommender_name in trustpilot_recommender_names:\n",
    "    try:\n",
    "        print(str(recommender_name) + \" review count: \" + str(len(globals()[recommender_name+\"_reviews\"])))\n",
    "    except KeyError:\n",
    "        pass"
   ]
  },
  {
   "cell_type": "code",
   "execution_count": 85,
   "metadata": {
    "scrolled": true
   },
   "outputs": [
    {
     "name": "stdout",
     "output_type": "stream",
     "text": [
      "airfarewatchdog\n",
      "hipmunk\n",
      "hopper\n",
      "kayak\n",
      "momondo\n",
      "priceline\n",
      "skyscanner\n",
      "airbnb\n"
     ]
    },
    {
     "ename": "WebDriverException",
     "evalue": "Message: disconnected: not connected to DevTools\n  (Session info: chrome=76.0.3809.100)\n  (Driver info: chromedriver=70.0.3538.97 (d035916fe243477005bc95fe2a5778b8f20b6ae1),platform=Mac OS X 10.14.4 x86_64)\n",
     "output_type": "error",
     "traceback": [
      "\u001b[0;31m---------------------------------------------------------------------------\u001b[0m",
      "\u001b[0;31mWebDriverException\u001b[0m                        Traceback (most recent call last)",
      "\u001b[0;32m<ipython-input-85-03da38f5faf9>\u001b[0m in \u001b[0;36m<module>\u001b[0;34m\u001b[0m\n\u001b[1;32m      1\u001b[0m \u001b[0;32mfor\u001b[0m \u001b[0mrecommender_name\u001b[0m\u001b[0;34m,\u001b[0m \u001b[0murl\u001b[0m \u001b[0;32min\u001b[0m \u001b[0mtrustpilot_cluster2_dict\u001b[0m\u001b[0;34m.\u001b[0m\u001b[0mitems\u001b[0m\u001b[0;34m(\u001b[0m\u001b[0;34m)\u001b[0m\u001b[0;34m:\u001b[0m\u001b[0;34m\u001b[0m\u001b[0;34m\u001b[0m\u001b[0m\n\u001b[0;32m----> 2\u001b[0;31m     \u001b[0mtrustpilot_review_crawler\u001b[0m\u001b[0;34m(\u001b[0m\u001b[0mrecommender_name\u001b[0m\u001b[0;34m,\u001b[0m \u001b[0murl\u001b[0m\u001b[0;34m)\u001b[0m\u001b[0;34m\u001b[0m\u001b[0;34m\u001b[0m\u001b[0m\n\u001b[0m",
      "\u001b[0;32m<ipython-input-83-cb70fbed834f>\u001b[0m in \u001b[0;36mtrustpilot_review_crawler\u001b[0;34m(recommender_name, url)\u001b[0m\n\u001b[1;32m     27\u001b[0m         \u001b[0;31m# close banner to click the 'next page' button\u001b[0m\u001b[0;34m\u001b[0m\u001b[0;34m\u001b[0m\u001b[0;34m\u001b[0m\u001b[0m\n\u001b[1;32m     28\u001b[0m         \u001b[0;32mtry\u001b[0m\u001b[0;34m:\u001b[0m\u001b[0;34m\u001b[0m\u001b[0;34m\u001b[0m\u001b[0m\n\u001b[0;32m---> 29\u001b[0;31m             \u001b[0mdriver\u001b[0m\u001b[0;34m.\u001b[0m\u001b[0mfind_element_by_xpath\u001b[0m\u001b[0;34m(\u001b[0m\u001b[0;34m\"/html/body/div[3]/div/a\"\u001b[0m\u001b[0;34m)\u001b[0m\u001b[0;34m.\u001b[0m\u001b[0mclick\u001b[0m\u001b[0;34m(\u001b[0m\u001b[0;34m)\u001b[0m\u001b[0;34m\u001b[0m\u001b[0;34m\u001b[0m\u001b[0m\n\u001b[0m\u001b[1;32m     30\u001b[0m         \u001b[0;32mexcept\u001b[0m \u001b[0mNoSuchElementException\u001b[0m\u001b[0;34m:\u001b[0m\u001b[0;34m\u001b[0m\u001b[0;34m\u001b[0m\u001b[0m\n\u001b[1;32m     31\u001b[0m             \u001b[0;32mpass\u001b[0m\u001b[0;34m\u001b[0m\u001b[0;34m\u001b[0m\u001b[0m\n",
      "\u001b[0;32m/usr/local/lib/python3.7/site-packages/selenium/webdriver/remote/webdriver.py\u001b[0m in \u001b[0;36mfind_element_by_xpath\u001b[0;34m(self, xpath)\u001b[0m\n\u001b[1;32m    392\u001b[0m             \u001b[0melement\u001b[0m \u001b[0;34m=\u001b[0m \u001b[0mdriver\u001b[0m\u001b[0;34m.\u001b[0m\u001b[0mfind_element_by_xpath\u001b[0m\u001b[0;34m(\u001b[0m\u001b[0;34m'//div/td[1]'\u001b[0m\u001b[0;34m)\u001b[0m\u001b[0;34m\u001b[0m\u001b[0;34m\u001b[0m\u001b[0m\n\u001b[1;32m    393\u001b[0m         \"\"\"\n\u001b[0;32m--> 394\u001b[0;31m         \u001b[0;32mreturn\u001b[0m \u001b[0mself\u001b[0m\u001b[0;34m.\u001b[0m\u001b[0mfind_element\u001b[0m\u001b[0;34m(\u001b[0m\u001b[0mby\u001b[0m\u001b[0;34m=\u001b[0m\u001b[0mBy\u001b[0m\u001b[0;34m.\u001b[0m\u001b[0mXPATH\u001b[0m\u001b[0;34m,\u001b[0m \u001b[0mvalue\u001b[0m\u001b[0;34m=\u001b[0m\u001b[0mxpath\u001b[0m\u001b[0;34m)\u001b[0m\u001b[0;34m\u001b[0m\u001b[0;34m\u001b[0m\u001b[0m\n\u001b[0m\u001b[1;32m    395\u001b[0m \u001b[0;34m\u001b[0m\u001b[0m\n\u001b[1;32m    396\u001b[0m     \u001b[0;32mdef\u001b[0m \u001b[0mfind_elements_by_xpath\u001b[0m\u001b[0;34m(\u001b[0m\u001b[0mself\u001b[0m\u001b[0;34m,\u001b[0m \u001b[0mxpath\u001b[0m\u001b[0;34m)\u001b[0m\u001b[0;34m:\u001b[0m\u001b[0;34m\u001b[0m\u001b[0;34m\u001b[0m\u001b[0m\n",
      "\u001b[0;32m/usr/local/lib/python3.7/site-packages/selenium/webdriver/remote/webdriver.py\u001b[0m in \u001b[0;36mfind_element\u001b[0;34m(self, by, value)\u001b[0m\n\u001b[1;32m    976\u001b[0m         return self.execute(Command.FIND_ELEMENT, {\n\u001b[1;32m    977\u001b[0m             \u001b[0;34m'using'\u001b[0m\u001b[0;34m:\u001b[0m \u001b[0mby\u001b[0m\u001b[0;34m,\u001b[0m\u001b[0;34m\u001b[0m\u001b[0;34m\u001b[0m\u001b[0m\n\u001b[0;32m--> 978\u001b[0;31m             'value': value})['value']\n\u001b[0m\u001b[1;32m    979\u001b[0m \u001b[0;34m\u001b[0m\u001b[0m\n\u001b[1;32m    980\u001b[0m     \u001b[0;32mdef\u001b[0m \u001b[0mfind_elements\u001b[0m\u001b[0;34m(\u001b[0m\u001b[0mself\u001b[0m\u001b[0;34m,\u001b[0m \u001b[0mby\u001b[0m\u001b[0;34m=\u001b[0m\u001b[0mBy\u001b[0m\u001b[0;34m.\u001b[0m\u001b[0mID\u001b[0m\u001b[0;34m,\u001b[0m \u001b[0mvalue\u001b[0m\u001b[0;34m=\u001b[0m\u001b[0;32mNone\u001b[0m\u001b[0;34m)\u001b[0m\u001b[0;34m:\u001b[0m\u001b[0;34m\u001b[0m\u001b[0;34m\u001b[0m\u001b[0m\n",
      "\u001b[0;32m/usr/local/lib/python3.7/site-packages/selenium/webdriver/remote/webdriver.py\u001b[0m in \u001b[0;36mexecute\u001b[0;34m(self, driver_command, params)\u001b[0m\n\u001b[1;32m    319\u001b[0m         \u001b[0mresponse\u001b[0m \u001b[0;34m=\u001b[0m \u001b[0mself\u001b[0m\u001b[0;34m.\u001b[0m\u001b[0mcommand_executor\u001b[0m\u001b[0;34m.\u001b[0m\u001b[0mexecute\u001b[0m\u001b[0;34m(\u001b[0m\u001b[0mdriver_command\u001b[0m\u001b[0;34m,\u001b[0m \u001b[0mparams\u001b[0m\u001b[0;34m)\u001b[0m\u001b[0;34m\u001b[0m\u001b[0;34m\u001b[0m\u001b[0m\n\u001b[1;32m    320\u001b[0m         \u001b[0;32mif\u001b[0m \u001b[0mresponse\u001b[0m\u001b[0;34m:\u001b[0m\u001b[0;34m\u001b[0m\u001b[0;34m\u001b[0m\u001b[0m\n\u001b[0;32m--> 321\u001b[0;31m             \u001b[0mself\u001b[0m\u001b[0;34m.\u001b[0m\u001b[0merror_handler\u001b[0m\u001b[0;34m.\u001b[0m\u001b[0mcheck_response\u001b[0m\u001b[0;34m(\u001b[0m\u001b[0mresponse\u001b[0m\u001b[0;34m)\u001b[0m\u001b[0;34m\u001b[0m\u001b[0;34m\u001b[0m\u001b[0m\n\u001b[0m\u001b[1;32m    322\u001b[0m             response['value'] = self._unwrap_value(\n\u001b[1;32m    323\u001b[0m                 response.get('value', None))\n",
      "\u001b[0;32m/usr/local/lib/python3.7/site-packages/selenium/webdriver/remote/errorhandler.py\u001b[0m in \u001b[0;36mcheck_response\u001b[0;34m(self, response)\u001b[0m\n\u001b[1;32m    240\u001b[0m                 \u001b[0malert_text\u001b[0m \u001b[0;34m=\u001b[0m \u001b[0mvalue\u001b[0m\u001b[0;34m[\u001b[0m\u001b[0;34m'alert'\u001b[0m\u001b[0;34m]\u001b[0m\u001b[0;34m.\u001b[0m\u001b[0mget\u001b[0m\u001b[0;34m(\u001b[0m\u001b[0;34m'text'\u001b[0m\u001b[0;34m)\u001b[0m\u001b[0;34m\u001b[0m\u001b[0;34m\u001b[0m\u001b[0m\n\u001b[1;32m    241\u001b[0m             \u001b[0;32mraise\u001b[0m \u001b[0mexception_class\u001b[0m\u001b[0;34m(\u001b[0m\u001b[0mmessage\u001b[0m\u001b[0;34m,\u001b[0m \u001b[0mscreen\u001b[0m\u001b[0;34m,\u001b[0m \u001b[0mstacktrace\u001b[0m\u001b[0;34m,\u001b[0m \u001b[0malert_text\u001b[0m\u001b[0;34m)\u001b[0m\u001b[0;34m\u001b[0m\u001b[0;34m\u001b[0m\u001b[0m\n\u001b[0;32m--> 242\u001b[0;31m         \u001b[0;32mraise\u001b[0m \u001b[0mexception_class\u001b[0m\u001b[0;34m(\u001b[0m\u001b[0mmessage\u001b[0m\u001b[0;34m,\u001b[0m \u001b[0mscreen\u001b[0m\u001b[0;34m,\u001b[0m \u001b[0mstacktrace\u001b[0m\u001b[0;34m)\u001b[0m\u001b[0;34m\u001b[0m\u001b[0;34m\u001b[0m\u001b[0m\n\u001b[0m\u001b[1;32m    243\u001b[0m \u001b[0;34m\u001b[0m\u001b[0m\n\u001b[1;32m    244\u001b[0m     \u001b[0;32mdef\u001b[0m \u001b[0m_value_or_default\u001b[0m\u001b[0;34m(\u001b[0m\u001b[0mself\u001b[0m\u001b[0;34m,\u001b[0m \u001b[0mobj\u001b[0m\u001b[0;34m,\u001b[0m \u001b[0mkey\u001b[0m\u001b[0;34m,\u001b[0m \u001b[0mdefault\u001b[0m\u001b[0;34m)\u001b[0m\u001b[0;34m:\u001b[0m\u001b[0;34m\u001b[0m\u001b[0;34m\u001b[0m\u001b[0m\n",
      "\u001b[0;31mWebDriverException\u001b[0m: Message: disconnected: not connected to DevTools\n  (Session info: chrome=76.0.3809.100)\n  (Driver info: chromedriver=70.0.3538.97 (d035916fe243477005bc95fe2a5778b8f20b6ae1),platform=Mac OS X 10.14.4 x86_64)\n"
     ]
    }
   ],
   "source": [
    "for recommender_name, url in trustpilot_cluster2_dict.items():\n",
    "    trustpilot_review_crawler(recommender_name, url)"
   ]
  },
  {
   "cell_type": "code",
   "execution_count": 118,
   "metadata": {
    "scrolled": true
   },
   "outputs": [
    {
     "name": "stdout",
     "output_type": "stream",
     "text": [
      "okcupid\n",
      "eharmony\n",
      "plentyoffish\n",
      "zillow\n",
      "homesnap\n",
      "trulia\n",
      "loopnet\n",
      "movoto\n"
     ]
    }
   ],
   "source": [
    "for recommender_name, url in trustpilot_cluster3_dict.items():\n",
    "    trustpilot_review_crawler(recommender_name, url)"
   ]
  },
  {
   "cell_type": "code",
   "execution_count": 177,
   "metadata": {},
   "outputs": [
    {
     "name": "stdout",
     "output_type": "stream",
     "text": [
      "netflix review count: 640\n",
      "amazonprime review count: 180\n",
      "hulu review count: 80\n",
      "sling review count: 1540\n",
      "fubo review count: 820\n",
      "yelp review count: 500\n",
      "zomato review count: 160\n",
      "opentable review count: 15\n",
      "zagat review count: 2\n",
      "airfarewatchdog review count: 3\n",
      "hipmunk review count: 1\n",
      "hopper review count: 80\n",
      "kayak review count: 1080\n",
      "momondo review count: 1260\n",
      "priceline review count: 56860\n",
      "skyscanner review count: 3200\n",
      "airbnb review count: 3600\n",
      "homeaway review count: 23240\n",
      "hostelworld review count: 12460\n",
      "jetsetter review count: 80\n",
      "vrbo review count: 14400\n",
      "expedia review count: 0\n",
      "tripadvisor review count: 0\n",
      "bumble review count: 0\n",
      "happn review count: 100\n",
      "clover review count: 2\n",
      "okcupid review count: 60\n",
      "eharmony review count: 0\n",
      "plentyoffish review count: 15\n",
      "zillow review count: 40\n",
      "homesnap review count: 0\n",
      "trulia review count: 3\n",
      "movoto review count: 160\n"
     ]
    }
   ],
   "source": [
    "# homesnap은 진짜로 리뷰 0개임\n",
    "trustpilot_recommender_names = []\n",
    "for cluster_recommender_name in trustpilot_cluster1_recommender_name:\n",
    "    trustpilot_recommender_names.append(cluster_recommender_name)\n",
    "for cluster_recommender_name in trustpilot_cluster2_recommender_name:\n",
    "    trustpilot_recommender_names.append(cluster_recommender_name)\n",
    "for cluster_recommender_name in trustpilot_cluster3_recommender_name:\n",
    "    trustpilot_recommender_names.append(cluster_recommender_name)\n",
    "for recommender_name in trustpilot_recommender_names:\n",
    "    print(str(recommender_name) + \" review count: \" + str(len(globals()[recommender_name+\"_reviews\"])))"
   ]
  },
  {
   "cell_type": "code",
   "execution_count": 178,
   "metadata": {},
   "outputs": [
    {
     "name": "stdout",
     "output_type": "stream",
     "text": [
      "expedia\n"
     ]
    }
   ],
   "source": [
    "trustpilot_review_crawler('expedia', 'https://www.trustpilot.com/review/www.expedia.com')"
   ]
  },
  {
   "cell_type": "code",
   "execution_count": 179,
   "metadata": {},
   "outputs": [
    {
     "name": "stdout",
     "output_type": "stream",
     "text": [
      "2320\n"
     ]
    }
   ],
   "source": [
    "print(len(expedia_reviews))"
   ]
  },
  {
   "cell_type": "code",
   "execution_count": 180,
   "metadata": {},
   "outputs": [
    {
     "name": "stdout",
     "output_type": "stream",
     "text": [
      "tripadvisor\n",
      "186\n"
     ]
    }
   ],
   "source": [
    "trustpilot_review_crawler('tripadvisor', 'https://www.trustpilot.com/review/www.tripadvisor.com')\n",
    "print(len(tripadvisor_reviews))"
   ]
  },
  {
   "cell_type": "code",
   "execution_count": 181,
   "metadata": {},
   "outputs": [
    {
     "name": "stdout",
     "output_type": "stream",
     "text": [
      "bumble\n",
      "40\n"
     ]
    }
   ],
   "source": [
    "trustpilot_review_crawler('bumble', 'https://www.trustpilot.com/review/bumble.com')\n",
    "print(len(bumble_reviews))"
   ]
  },
  {
   "cell_type": "code",
   "execution_count": 183,
   "metadata": {},
   "outputs": [
    {
     "name": "stdout",
     "output_type": "stream",
     "text": [
      "eharmony\n",
      "0\n"
     ]
    }
   ],
   "source": [
    "trustpilot_review_crawler('eharmony', 'https://www.trustpilot.com/review/www.eharmony.com')\n",
    "print(len(eharmony_reviews))"
   ]
  },
  {
   "cell_type": "code",
   "execution_count": 192,
   "metadata": {},
   "outputs": [],
   "source": [
    "import pandas as pd\n",
    "columns = ['content', 'recommender', 'cluster']\n",
    "for recommender_name in trustpilot_recommender_names:\n",
    "    globals()[recommender_name+\"_reviews_df\"] = pd.DataFrame(columns=columns)\n",
    "    globals()[recommender_name+\"_reviews_df\"]['content'] = globals()[recommender_name+\"_reviews\"]\n",
    "    globals()[recommender_name+\"_reviews_df\"]['recommender'] = recommender_name\n",
    "for recommender_name in trustpilot_cluster1_recommender_name:\n",
    "    globals()[recommender_name+\"_reviews_df\"]['cluster'] = '1'\n",
    "for recommender_name in trustpilot_cluster2_recommender_name:\n",
    "    globals()[recommender_name+\"_reviews_df\"]['cluster'] = '2'\n",
    "for recommender_name in trustpilot_cluster3_recommender_name:\n",
    "    globals()[recommender_name+\"_reviews_df\"]['cluster'] = '3'"
   ]
  },
  {
   "cell_type": "code",
   "execution_count": 193,
   "metadata": {},
   "outputs": [],
   "source": [
    "trustpilot_frames = []\n",
    "for recommender_name in trustpilot_recommender_names:\n",
    "    trustpilot_frames.append(globals()[recommender_name+\"_reviews_df\"])\n",
    "trustpilot_df = pd.concat(trustpilot_frames)"
   ]
  },
  {
   "cell_type": "code",
   "execution_count": 195,
   "metadata": {},
   "outputs": [
    {
     "data": {
      "text/html": [
       "<div>\n",
       "<style scoped>\n",
       "    .dataframe tbody tr th:only-of-type {\n",
       "        vertical-align: middle;\n",
       "    }\n",
       "\n",
       "    .dataframe tbody tr th {\n",
       "        vertical-align: top;\n",
       "    }\n",
       "\n",
       "    .dataframe thead th {\n",
       "        text-align: right;\n",
       "    }\n",
       "</style>\n",
       "<table border=\"1\" class=\"dataframe\">\n",
       "  <thead>\n",
       "    <tr style=\"text-align: right;\">\n",
       "      <th></th>\n",
       "      <th>content</th>\n",
       "      <th>recommender</th>\n",
       "      <th>cluster</th>\n",
       "    </tr>\n",
       "  </thead>\n",
       "  <tbody>\n",
       "    <tr>\n",
       "      <th>0</th>\n",
       "      <td>takes up every single bit of internet in your ...</td>\n",
       "      <td>netflix</td>\n",
       "      <td>1</td>\n",
       "    </tr>\n",
       "    <tr>\n",
       "      <th>1</th>\n",
       "      <td>It's good so far, just continue to add more gr...</td>\n",
       "      <td>netflix</td>\n",
       "      <td>1</td>\n",
       "    </tr>\n",
       "    <tr>\n",
       "      <th>2</th>\n",
       "      <td>Love it great choice</td>\n",
       "      <td>netflix</td>\n",
       "      <td>1</td>\n",
       "    </tr>\n",
       "    <tr>\n",
       "      <th>3</th>\n",
       "      <td>I signed up for a free trial and cancelled the...</td>\n",
       "      <td>netflix</td>\n",
       "      <td>1</td>\n",
       "    </tr>\n",
       "    <tr>\n",
       "      <th>4</th>\n",
       "      <td>Fantastic service. Amazing choice for a tenner...</td>\n",
       "      <td>netflix</td>\n",
       "      <td>1</td>\n",
       "    </tr>\n",
       "  </tbody>\n",
       "</table>\n",
       "</div>"
      ],
      "text/plain": [
       "                                             content recommender cluster\n",
       "0  takes up every single bit of internet in your ...     netflix       1\n",
       "1  It's good so far, just continue to add more gr...     netflix       1\n",
       "2                               Love it great choice     netflix       1\n",
       "3  I signed up for a free trial and cancelled the...     netflix       1\n",
       "4  Fantastic service. Amazing choice for a tenner...     netflix       1"
      ]
     },
     "execution_count": 195,
     "metadata": {},
     "output_type": "execute_result"
    }
   ],
   "source": [
    "trustpilot_df.head()"
   ]
  },
  {
   "cell_type": "code",
   "execution_count": 196,
   "metadata": {
    "scrolled": true
   },
   "outputs": [
    {
     "data": {
      "text/html": [
       "<div>\n",
       "<style scoped>\n",
       "    .dataframe tbody tr th:only-of-type {\n",
       "        vertical-align: middle;\n",
       "    }\n",
       "\n",
       "    .dataframe tbody tr th {\n",
       "        vertical-align: top;\n",
       "    }\n",
       "\n",
       "    .dataframe thead th {\n",
       "        text-align: right;\n",
       "    }\n",
       "</style>\n",
       "<table border=\"1\" class=\"dataframe\">\n",
       "  <thead>\n",
       "    <tr style=\"text-align: right;\">\n",
       "      <th></th>\n",
       "      <th>content</th>\n",
       "      <th>recommender</th>\n",
       "      <th>cluster</th>\n",
       "    </tr>\n",
       "  </thead>\n",
       "  <tbody>\n",
       "    <tr>\n",
       "      <th>155</th>\n",
       "      <td>Jim Fassbender has been great to work with, al...</td>\n",
       "      <td>movoto</td>\n",
       "      <td>3</td>\n",
       "    </tr>\n",
       "    <tr>\n",
       "      <th>156</th>\n",
       "      <td>Our company has purchased a small condo here i...</td>\n",
       "      <td>movoto</td>\n",
       "      <td>3</td>\n",
       "    </tr>\n",
       "    <tr>\n",
       "      <th>157</th>\n",
       "      <td>Very easy to work with.  Extremely professiona...</td>\n",
       "      <td>movoto</td>\n",
       "      <td>3</td>\n",
       "    </tr>\n",
       "    <tr>\n",
       "      <th>158</th>\n",
       "      <td>Natalie Hawkins Is the best realtor I've ever ...</td>\n",
       "      <td>movoto</td>\n",
       "      <td>3</td>\n",
       "    </tr>\n",
       "    <tr>\n",
       "      <th>159</th>\n",
       "      <td>Movoto is a great resource for all of your rea...</td>\n",
       "      <td>movoto</td>\n",
       "      <td>3</td>\n",
       "    </tr>\n",
       "  </tbody>\n",
       "</table>\n",
       "</div>"
      ],
      "text/plain": [
       "                                               content recommender cluster\n",
       "155  Jim Fassbender has been great to work with, al...      movoto       3\n",
       "156  Our company has purchased a small condo here i...      movoto       3\n",
       "157  Very easy to work with.  Extremely professiona...      movoto       3\n",
       "158  Natalie Hawkins Is the best realtor I've ever ...      movoto       3\n",
       "159  Movoto is a great resource for all of your rea...      movoto       3"
      ]
     },
     "execution_count": 196,
     "metadata": {},
     "output_type": "execute_result"
    }
   ],
   "source": [
    "trustpilot_df.tail()"
   ]
  },
  {
   "cell_type": "code",
   "execution_count": 197,
   "metadata": {},
   "outputs": [],
   "source": [
    "trustpilot_df.to_csv('/Users/angieryu2202/Desktop/Trust_논문_2019/trustpilot_reviews_2019.tsv', sep = '\\t')"
   ]
  },
  {
   "cell_type": "markdown",
   "metadata": {},
   "source": [
    "# Sitejabber Crawling"
   ]
  },
  {
   "cell_type": "code",
   "execution_count": 13,
   "metadata": {},
   "outputs": [],
   "source": [
    "def sitejabber_url_crawler(category, url_list):\n",
    "    from selenium import webdriver\n",
    "    import time\n",
    "    from selenium.common.exceptions import NoSuchElementException\n",
    "    from selenium.webdriver.common.keys import Keys\n",
    "    try:\n",
    "        driver = webdriver.Chrome('/Users/angieryu2202/Downloads/chromedriver')\n",
    "        driver.implicitly_wait(3)\n",
    "        driver.get('https://www.sitejabber.com/')\n",
    "        driver.find_element_by_xpath('//*[@id=\"header_logged_out_bottom_container\"]/div/form/div/input').click()\n",
    "        driver.find_element_by_xpath('//*[@id=\"header_logged_out_bottom_container\"]/div/form/div/input').send_keys(category)\n",
    "        time.sleep(2)\n",
    "        driver.find_element_by_xpath('//*[@id=\"header_logged_out_bottom_container\"]/div/form/div/input').send_keys(Keys.RETURN)\n",
    "        time.sleep(3)\n",
    "        driver.find_element_by_xpath('//*[@id=\"left_column\"]/div[2]/div[2]/div[1]').click()\n",
    "        time.sleep(3)\n",
    "        globals()[str(url_list)].append(str(driver.current_url))\n",
    "    except NoSuchElementException:\n",
    "        pass"
   ]
  },
  {
   "cell_type": "code",
   "execution_count": 14,
   "metadata": {},
   "outputs": [],
   "source": [
    "sitejabber_cluster1_urls = []\n",
    "vods = ['netflix', 'amazon prime', 'hulu', 'HBONOW', 'sling tv', 'sony playstation vue', 'fubo tv', 'cbs all access']\n",
    "restaurants = ['yelp', 'zomato', 'opentable', 'zagat', 'tripadvisor', 'gayot']\n",
    "\n",
    "for vod in vods:\n",
    "    sitejabber_url_crawler(vod, 'sitejabber_cluster1_urls')\n",
    "for restaurant in restaurants:\n",
    "    sitejabber_url_crawler(restaurant, 'sitejabber_cluster1_urls')"
   ]
  },
  {
   "cell_type": "code",
   "execution_count": 16,
   "metadata": {},
   "outputs": [],
   "source": [
    "sitejabber_cluster2_urls = []\n",
    "hotels_flights = ['airfarewatchdog', 'google flights', 'hipmunk', 'hopper', 'kayak', 'momondo', 'priceline', 'skyscanner', 'yapta', 'airbnb', 'booking.com', 'homeaway', 'hostels.com', 'hostelworld', 'jetsetter', 'VRBO', 'expedia', 'tripadvisor']\n",
    "datings = ['Bumble', 'Tinder', 'Hinge', 'Coffee Meets Bagel', 'Happn', 'The League', 'Her', 'Clover']\n",
    "\n",
    "for hotel_flight in hotels_flights:\n",
    "    sitejabber_url_crawler(hotel_flight, 'sitejabber_cluster2_urls')\n",
    "for dating in datings:\n",
    "    sitejabber_url_crawler(dating, 'sitejabber_cluster2_urls')"
   ]
  },
  {
   "cell_type": "code",
   "execution_count": 17,
   "metadata": {},
   "outputs": [],
   "source": [
    "sitejabber_cluster3_urls = []\n",
    "marriages = ['OkCupid', 'Match.com', 'eHarmony', 'Plenty of Fish']\n",
    "# https://knowitallnancy.com/know-it-all-nancy/blog/top-4-online-dating-sites-serious-relationships-according-research\n",
    "for marriage in marriages:\n",
    "    sitejabber_url_crawler(marriage, 'sitejabber_cluster3_urls')\n",
    "real_estates = ['Zillow', 'RedFin', 'Homes.com', 'Xome', 'Real Estate by Smarter Agent', 'Century 21', 'HomeSnap', 'Trulia', 'Realtor.com', 'LoopNet', 'Movoto']\n",
    "# https://www.digitaltrends.com/mobile/best-real-estate-apps/\n",
    "for real_estate in real_estates:\n",
    "    sitejabber_url_crawler(real_estate, 'sitejabber_cluster3_urls')"
   ]
  },
  {
   "cell_type": "code",
   "execution_count": 18,
   "metadata": {},
   "outputs": [
    {
     "name": "stdout",
     "output_type": "stream",
     "text": [
      "['https://www.sitejabber.com/reviews/netflix.com', 'https://www.sitejabber.com/reviews/amazonprime.com', 'https://www.sitejabber.com/reviews/hulu.com', 'https://www.sitejabber.com/reviews/hbonow.com', 'https://www.sitejabber.com/reviews/sling.com', 'https://www.sitejabber.com/reviews/yelp.com', 'https://www.sitejabber.com/reviews/zomato.com', 'https://www.sitejabber.com/reviews/opentable.com', 'https://www.sitejabber.com/reviews/zagat.com', 'https://www.sitejabber.com/reviews/tripadvisor.com', 'https://www.sitejabber.com/reviews/gayot.com']\n",
      "['https://www.sitejabber.com/reviews/hipmunk.com', 'https://www.sitejabber.com/reviews/hopper.com', 'https://www.sitejabber.com/reviews/kayak.com', 'https://www.sitejabber.com/reviews/momondo.com', 'https://www.sitejabber.com/reviews/priceline.com', 'https://www.sitejabber.com/reviews/skyscanner.com', 'https://www.sitejabber.com/reviews/yapta.com', 'https://www.sitejabber.com/reviews/airbnb.com', 'https://www.sitejabber.com/reviews/booking.com', 'https://www.sitejabber.com/reviews/homeaway.com', 'https://www.sitejabber.com/reviews/hostels.com', 'https://www.sitejabber.com/reviews/hostelworld.com', 'https://www.sitejabber.com/reviews/jetsetter.com', 'https://www.sitejabber.com/reviews/vrbo.com', 'https://www.sitejabber.com/reviews/expedia.com', 'https://www.sitejabber.com/reviews/tripadvisor.com', 'https://www.sitejabber.com/reviews/bumble.com', 'https://www.sitejabber.com/reviews/tinder.com', 'https://www.sitejabber.com/reviews/hinge.co', 'https://www.sitejabber.com/reviews/coffeemeetsbagel.com', 'https://www.sitejabber.com/reviews/whatreallyhappened.com', 'https://www.sitejabber.com/reviews/theleague.com', 'https://www.sitejabber.com/reviews/laheroina.com', 'https://www.sitejabber.com/reviews/cloversac.com']\n",
      "['https://www.sitejabber.com/reviews/okcupid.com', 'https://www.sitejabber.com/reviews/match.com', 'https://www.sitejabber.com/reviews/eharmony.com', 'https://www.sitejabber.com/reviews/zillow.com', 'https://www.sitejabber.com/reviews/redfin.com', 'https://www.sitejabber.com/reviews/homes.com', 'https://www.sitejabber.com/reviews/comediansincarsgettingcoffee.com', 'https://www.sitejabber.com/reviews/c21stores.com', 'https://www.sitejabber.com/reviews/trulia.com', 'https://www.sitejabber.com/reviews/realtor.com', 'https://www.sitejabber.com/reviews/loopnet.com']\n"
     ]
    }
   ],
   "source": [
    "print(sitejabber_cluster1_urls)\n",
    "print(sitejabber_cluster2_urls)\n",
    "print(sitejabber_cluster3_urls)"
   ]
  },
  {
   "cell_type": "code",
   "execution_count": 19,
   "metadata": {},
   "outputs": [],
   "source": [
    "sitejabber_cluster2_urls.remove('https://www.sitejabber.com/reviews/whatreallyhappened.com')\n",
    "sitejabber_cluster2_urls.remove('https://www.sitejabber.com/reviews/laheroina.com')\n",
    "sitejabber_cluster2_urls.remove('https://www.sitejabber.com/reviews/cloversac.com')\n",
    "sitejabber_cluster3_urls.remove('https://www.sitejabber.com/reviews/comediansincarsgettingcoffee.com')"
   ]
  },
  {
   "cell_type": "code",
   "execution_count": 21,
   "metadata": {},
   "outputs": [
    {
     "name": "stdout",
     "output_type": "stream",
     "text": [
      "['https://www.sitejabber.com/reviews/netflix.com', 'https://www.sitejabber.com/reviews/amazonprime.com', 'https://www.sitejabber.com/reviews/hulu.com', 'https://www.sitejabber.com/reviews/hbonow.com', 'https://www.sitejabber.com/reviews/sling.com', 'https://www.sitejabber.com/reviews/yelp.com', 'https://www.sitejabber.com/reviews/zomato.com', 'https://www.sitejabber.com/reviews/opentable.com', 'https://www.sitejabber.com/reviews/zagat.com', 'https://www.sitejabber.com/reviews/tripadvisor.com', 'https://www.sitejabber.com/reviews/gayot.com']\n"
     ]
    }
   ],
   "source": [
    "print(sitejabber_cluster1_urls)"
   ]
  },
  {
   "cell_type": "code",
   "execution_count": 20,
   "metadata": {},
   "outputs": [
    {
     "name": "stdout",
     "output_type": "stream",
     "text": [
      "['https://www.sitejabber.com/reviews/hipmunk.com', 'https://www.sitejabber.com/reviews/hopper.com', 'https://www.sitejabber.com/reviews/kayak.com', 'https://www.sitejabber.com/reviews/momondo.com', 'https://www.sitejabber.com/reviews/priceline.com', 'https://www.sitejabber.com/reviews/skyscanner.com', 'https://www.sitejabber.com/reviews/yapta.com', 'https://www.sitejabber.com/reviews/airbnb.com', 'https://www.sitejabber.com/reviews/booking.com', 'https://www.sitejabber.com/reviews/homeaway.com', 'https://www.sitejabber.com/reviews/hostels.com', 'https://www.sitejabber.com/reviews/hostelworld.com', 'https://www.sitejabber.com/reviews/jetsetter.com', 'https://www.sitejabber.com/reviews/vrbo.com', 'https://www.sitejabber.com/reviews/expedia.com', 'https://www.sitejabber.com/reviews/tripadvisor.com', 'https://www.sitejabber.com/reviews/bumble.com', 'https://www.sitejabber.com/reviews/tinder.com', 'https://www.sitejabber.com/reviews/hinge.co', 'https://www.sitejabber.com/reviews/coffeemeetsbagel.com', 'https://www.sitejabber.com/reviews/theleague.com']\n",
      "['https://www.sitejabber.com/reviews/okcupid.com', 'https://www.sitejabber.com/reviews/match.com', 'https://www.sitejabber.com/reviews/eharmony.com', 'https://www.sitejabber.com/reviews/zillow.com', 'https://www.sitejabber.com/reviews/redfin.com', 'https://www.sitejabber.com/reviews/homes.com', 'https://www.sitejabber.com/reviews/c21stores.com', 'https://www.sitejabber.com/reviews/trulia.com', 'https://www.sitejabber.com/reviews/realtor.com', 'https://www.sitejabber.com/reviews/loopnet.com']\n"
     ]
    }
   ],
   "source": [
    "print(sitejabber_cluster2_urls)\n",
    "print(sitejabber_cluster3_urls)"
   ]
  },
  {
   "cell_type": "code",
   "execution_count": 22,
   "metadata": {},
   "outputs": [],
   "source": [
    "sitejabber_cluster1_recommender_name = ['netflix', 'amazonprime', 'hulu', 'hbonow', 'sling', 'yelp', 'zomato', 'opentable', 'zagat', 'tripadvisor', 'gayot']\n",
    "sitejabber_cluster1_dict = dict(zip(sitejabber_cluster1_recommender_name, sitejabber_cluster1_urls))\n",
    "sitejabber_cluster2_recommender_name = ['hipmunk', 'hopper', 'kayak', 'momondo', 'priceline', 'skyscanner', 'yapta', 'airbnb', 'booking', 'homeaway', 'hostels', 'hostelworld', 'jetsetter', 'vrbo', 'expedia', 'tripadvisor', 'bumble', 'tinder', 'hinge', 'coffeemeetsbagel', 'theleague']\n",
    "sitejabber_cluster2_dict = dict(zip(sitejabber_cluster2_recommender_name, sitejabber_cluster2_urls))\n",
    "sitejabber_cluster3_recommender_name = ['okcupid', 'match', 'eharmony', 'zillow', 'redfin', 'homes', 'century21', 'trulia', 'realtor', 'loopnet']\n",
    "sitejabber_cluster3_dict = dict(zip(sitejabber_cluster3_recommender_name, sitejabber_cluster3_urls))"
   ]
  },
  {
   "cell_type": "code",
   "execution_count": 25,
   "metadata": {},
   "outputs": [],
   "source": [
    "def sitejabber_review_crawler (recommender_name, url):\n",
    "    from selenium import webdriver\n",
    "    from selenium.common.exceptions import TimeoutException\n",
    "    from selenium.webdriver.support.ui import WebDriverWait\n",
    "    from selenium.webdriver.support import expected_conditions as EC\n",
    "    from selenium.common.exceptions import TimeoutException\n",
    "    from selenium.common.exceptions import NoSuchElementException\n",
    "    from selenium.webdriver.common.by import By\n",
    "    from bs4 import BeautifulSoup\n",
    "\n",
    "    globals()[str(recommender_name)+\"_reviews\"] = []\n",
    "    \n",
    "    driver = webdriver.Chrome('/Users/angieryu2202/Downloads/chromedriver')\n",
    "    driver.implicitly_wait(3)\n",
    "    driver.get(url)\n",
    "    page_source = driver.page_source\n",
    "    soup = BeautifulSoup(page_source, 'lxml')\n",
    "    while True:\n",
    "        # grab the data\n",
    "        # review collection\n",
    "        try:\n",
    "            review_selectors = soup.find_all('div', class_='review ')\n",
    "            for review_selector in review_selectors:\n",
    "                review = review_selector.find('p', class_='review_content').get_text()\n",
    "                review = review.strip()\n",
    "                globals()[str(recommender_name)+\"_reviews\"].append(review)\n",
    "        except AttributeError:\n",
    "            pass\n",
    "        # close banner to click the 'next page' button\n",
    "        try:\n",
    "            driver.find_element_by_xpath(\"/html/body/div[3]/div/a\").click()\n",
    "        except NoSuchElementException:\n",
    "            pass\n",
    "        # click next link\n",
    "        try:\n",
    "            element = WebDriverWait(driver, 10).until(EC.element_to_be_clickable((By.LINK_TEXT, \"Next\")))\n",
    "            driver.execute_script(\"arguments[0].click();\", element)\n",
    "            #The execute_script() method has 2 parameters. The first is the script, the second is a vararg in which you can place any parameters used in the script. In this case we only need the element as parameter, but since it is a vararg our element is the first in the collection. For example you could also do driver.execute_script(\"arguments[0].click(); arguments[1].click();\" element1, element2) This would click both elements passed\n",
    "        except TimeoutException:\n",
    "            break\n",
    "\n",
    "    print(recommender_name)"
   ]
  },
  {
   "cell_type": "code",
   "execution_count": 26,
   "metadata": {},
   "outputs": [
    {
     "name": "stdout",
     "output_type": "stream",
     "text": [
      "netflix\n",
      "amazonprime\n",
      "hulu\n",
      "hbonow\n",
      "sling\n",
      "yelp\n",
      "zomato\n",
      "opentable\n",
      "zagat\n",
      "tripadvisor\n",
      "gayot\n"
     ]
    }
   ],
   "source": [
    "for recommender_name, url in sitejabber_cluster1_dict.items():\n",
    "    sitejabber_review_crawler(recommender_name, url)"
   ]
  },
  {
   "cell_type": "code",
   "execution_count": 27,
   "metadata": {},
   "outputs": [
    {
     "name": "stdout",
     "output_type": "stream",
     "text": [
      "hipmunk\n",
      "hopper\n",
      "kayak\n",
      "momondo\n",
      "priceline\n",
      "skyscanner\n",
      "yapta\n",
      "airbnb\n",
      "booking\n",
      "homeaway\n",
      "hostels\n",
      "hostelworld\n",
      "jetsetter\n",
      "vrbo\n",
      "expedia\n",
      "tripadvisor\n",
      "bumble\n",
      "tinder\n",
      "hinge\n",
      "coffeemeetsbagel\n",
      "theleague\n"
     ]
    }
   ],
   "source": [
    "for recommender_name, url in sitejabber_cluster2_dict.items():\n",
    "    sitejabber_review_crawler(recommender_name, url)"
   ]
  },
  {
   "cell_type": "code",
   "execution_count": 28,
   "metadata": {},
   "outputs": [
    {
     "name": "stdout",
     "output_type": "stream",
     "text": [
      "okcupid\n",
      "match\n",
      "eharmony\n",
      "zillow\n",
      "redfin\n",
      "homes\n",
      "century21\n",
      "trulia\n",
      "realtor\n",
      "loopnet\n"
     ]
    }
   ],
   "source": [
    "for recommender_name, url in sitejabber_cluster3_dict.items():\n",
    "    sitejabber_review_crawler(recommender_name, url)"
   ]
  },
  {
   "cell_type": "code",
   "execution_count": 29,
   "metadata": {},
   "outputs": [
    {
     "name": "stdout",
     "output_type": "stream",
     "text": [
      "netflix review count: 1300\n",
      "amazonprime review count: 300\n",
      "hulu review count: 675\n",
      "hbonow review count: 0\n",
      "sling review count: 225\n",
      "yelp review count: 725\n",
      "zomato review count: 7\n",
      "opentable review count: 225\n",
      "zagat review count: 10\n",
      "tripadvisor review count: 525\n",
      "gayot review count: 1\n",
      "hipmunk review count: 2\n",
      "hopper review count: 50\n",
      "kayak review count: 250\n",
      "momondo review count: 3\n",
      "priceline review count: 1350\n",
      "skyscanner review count: 20\n",
      "yapta review count: 13\n",
      "airbnb review count: 1075\n",
      "booking review count: 1550\n",
      "homeaway review count: 1525\n",
      "hostels review count: 2\n",
      "hostelworld review count: 50\n",
      "jetsetter review count: 7\n",
      "vrbo review count: 875\n",
      "expedia review count: 1075\n",
      "tripadvisor review count: 525\n",
      "bumble review count: 9\n",
      "tinder review count: 250\n",
      "hinge review count: 6\n",
      "coffeemeetsbagel review count: 125\n",
      "theleague review count: 2\n",
      "okcupid review count: 500\n",
      "match review count: 1000\n",
      "eharmony review count: 550\n",
      "zillow review count: 425\n",
      "redfin review count: 9\n",
      "homes review count: 18\n",
      "century21 review count: 6\n",
      "trulia review count: 150\n",
      "realtor review count: 475\n",
      "loopnet review count: 11\n"
     ]
    }
   ],
   "source": [
    "# hbonow는 진짜로 리뷰 0개임\n",
    "sitejabber_recommender_names = []\n",
    "for cluster_recommender_name in sitejabber_cluster1_recommender_name:\n",
    "    sitejabber_recommender_names.append(cluster_recommender_name)\n",
    "for cluster_recommender_name in sitejabber_cluster2_recommender_name:\n",
    "    sitejabber_recommender_names.append(cluster_recommender_name)\n",
    "for cluster_recommender_name in sitejabber_cluster3_recommender_name:\n",
    "    sitejabber_recommender_names.append(cluster_recommender_name)\n",
    "for recommender_name in sitejabber_recommender_names:\n",
    "    print(str(recommender_name) + \" review count: \" + str(len(globals()[recommender_name+\"_reviews\"])))"
   ]
  },
  {
   "cell_type": "code",
   "execution_count": 30,
   "metadata": {},
   "outputs": [],
   "source": [
    "import pandas as pd\n",
    "columns = ['content', 'recommender', 'cluster']\n",
    "for recommender_name in sitejabber_recommender_names:\n",
    "    globals()[recommender_name+\"_reviews_df\"] = pd.DataFrame(columns=columns)\n",
    "    globals()[recommender_name+\"_reviews_df\"]['content'] = globals()[recommender_name+\"_reviews\"]\n",
    "    globals()[recommender_name+\"_reviews_df\"]['recommender'] = recommender_name\n",
    "for recommender_name in sitejabber_cluster1_recommender_name:\n",
    "    globals()[recommender_name+\"_reviews_df\"]['cluster'] = '1'\n",
    "for recommender_name in sitejabber_cluster2_recommender_name:\n",
    "    globals()[recommender_name+\"_reviews_df\"]['cluster'] = '2'\n",
    "for recommender_name in sitejabber_cluster3_recommender_name:\n",
    "    globals()[recommender_name+\"_reviews_df\"]['cluster'] = '3'"
   ]
  },
  {
   "cell_type": "code",
   "execution_count": 31,
   "metadata": {},
   "outputs": [],
   "source": [
    "sitejabber_frames = []\n",
    "for recommender_name in sitejabber_recommender_names:\n",
    "    sitejabber_frames.append(globals()[recommender_name+\"_reviews_df\"])\n",
    "sitejabber_df = pd.concat(sitejabber_frames)"
   ]
  },
  {
   "cell_type": "code",
   "execution_count": 32,
   "metadata": {},
   "outputs": [
    {
     "data": {
      "text/html": [
       "<div>\n",
       "<style scoped>\n",
       "    .dataframe tbody tr th:only-of-type {\n",
       "        vertical-align: middle;\n",
       "    }\n",
       "\n",
       "    .dataframe tbody tr th {\n",
       "        vertical-align: top;\n",
       "    }\n",
       "\n",
       "    .dataframe thead th {\n",
       "        text-align: right;\n",
       "    }\n",
       "</style>\n",
       "<table border=\"1\" class=\"dataframe\">\n",
       "  <thead>\n",
       "    <tr style=\"text-align: right;\">\n",
       "      <th></th>\n",
       "      <th>content</th>\n",
       "      <th>recommender</th>\n",
       "      <th>cluster</th>\n",
       "    </tr>\n",
       "  </thead>\n",
       "  <tbody>\n",
       "    <tr>\n",
       "      <th>0</th>\n",
       "      <td>My favorite place to watch some movies. I also...</td>\n",
       "      <td>netflix</td>\n",
       "      <td>1</td>\n",
       "    </tr>\n",
       "    <tr>\n",
       "      <th>1</th>\n",
       "      <td>Unbelievable how much user friendly amazon is ...</td>\n",
       "      <td>netflix</td>\n",
       "      <td>1</td>\n",
       "    </tr>\n",
       "    <tr>\n",
       "      <th>2</th>\n",
       "      <td>I have had Netflix for a little over 3 years a...</td>\n",
       "      <td>netflix</td>\n",
       "      <td>1</td>\n",
       "    </tr>\n",
       "    <tr>\n",
       "      <th>3</th>\n",
       "      <td>Lately every time I find a movie that I want t...</td>\n",
       "      <td>netflix</td>\n",
       "      <td>1</td>\n",
       "    </tr>\n",
       "    <tr>\n",
       "      <th>4</th>\n",
       "      <td>Kids were hooked to this crap, so i cut the su...</td>\n",
       "      <td>netflix</td>\n",
       "      <td>1</td>\n",
       "    </tr>\n",
       "  </tbody>\n",
       "</table>\n",
       "</div>"
      ],
      "text/plain": [
       "                                             content recommender cluster\n",
       "0  My favorite place to watch some movies. I also...     netflix       1\n",
       "1  Unbelievable how much user friendly amazon is ...     netflix       1\n",
       "2  I have had Netflix for a little over 3 years a...     netflix       1\n",
       "3  Lately every time I find a movie that I want t...     netflix       1\n",
       "4  Kids were hooked to this crap, so i cut the su...     netflix       1"
      ]
     },
     "execution_count": 32,
     "metadata": {},
     "output_type": "execute_result"
    }
   ],
   "source": [
    "sitejabber_df.head()"
   ]
  },
  {
   "cell_type": "code",
   "execution_count": 33,
   "metadata": {
    "scrolled": false
   },
   "outputs": [
    {
     "data": {
      "text/html": [
       "<div>\n",
       "<style scoped>\n",
       "    .dataframe tbody tr th:only-of-type {\n",
       "        vertical-align: middle;\n",
       "    }\n",
       "\n",
       "    .dataframe tbody tr th {\n",
       "        vertical-align: top;\n",
       "    }\n",
       "\n",
       "    .dataframe thead th {\n",
       "        text-align: right;\n",
       "    }\n",
       "</style>\n",
       "<table border=\"1\" class=\"dataframe\">\n",
       "  <thead>\n",
       "    <tr style=\"text-align: right;\">\n",
       "      <th></th>\n",
       "      <th>content</th>\n",
       "      <th>recommender</th>\n",
       "      <th>cluster</th>\n",
       "    </tr>\n",
       "  </thead>\n",
       "  <tbody>\n",
       "    <tr>\n",
       "      <th>6</th>\n",
       "      <td>This appears to be a classic bait and switch o...</td>\n",
       "      <td>loopnet</td>\n",
       "      <td>3</td>\n",
       "    </tr>\n",
       "    <tr>\n",
       "      <th>7</th>\n",
       "      <td>Beware! Website content is usually outdated es...</td>\n",
       "      <td>loopnet</td>\n",
       "      <td>3</td>\n",
       "    </tr>\n",
       "    <tr>\n",
       "      <th>8</th>\n",
       "      <td>Read the fine print!!  Tried to sign up for a ...</td>\n",
       "      <td>loopnet</td>\n",
       "      <td>3</td>\n",
       "    </tr>\n",
       "    <tr>\n",
       "      <th>9</th>\n",
       "      <td>LoopNet cut me off from the website, literally...</td>\n",
       "      <td>loopnet</td>\n",
       "      <td>3</td>\n",
       "    </tr>\n",
       "    <tr>\n",
       "      <th>10</th>\n",
       "      <td>Really the best website of it's kind right now...</td>\n",
       "      <td>loopnet</td>\n",
       "      <td>3</td>\n",
       "    </tr>\n",
       "  </tbody>\n",
       "</table>\n",
       "</div>"
      ],
      "text/plain": [
       "                                              content recommender cluster\n",
       "6   This appears to be a classic bait and switch o...     loopnet       3\n",
       "7   Beware! Website content is usually outdated es...     loopnet       3\n",
       "8   Read the fine print!!  Tried to sign up for a ...     loopnet       3\n",
       "9   LoopNet cut me off from the website, literally...     loopnet       3\n",
       "10  Really the best website of it's kind right now...     loopnet       3"
      ]
     },
     "execution_count": 33,
     "metadata": {},
     "output_type": "execute_result"
    }
   ],
   "source": [
    "sitejabber_df.tail()"
   ]
  },
  {
   "cell_type": "code",
   "execution_count": 35,
   "metadata": {
    "scrolled": true
   },
   "outputs": [
    {
     "data": {
      "text/html": [
       "<div>\n",
       "<style scoped>\n",
       "    .dataframe tbody tr th:only-of-type {\n",
       "        vertical-align: middle;\n",
       "    }\n",
       "\n",
       "    .dataframe tbody tr th {\n",
       "        vertical-align: top;\n",
       "    }\n",
       "\n",
       "    .dataframe thead th {\n",
       "        text-align: right;\n",
       "    }\n",
       "</style>\n",
       "<table border=\"1\" class=\"dataframe\">\n",
       "  <thead>\n",
       "    <tr style=\"text-align: right;\">\n",
       "      <th></th>\n",
       "      <th>content</th>\n",
       "      <th>recommender</th>\n",
       "      <th>cluster</th>\n",
       "    </tr>\n",
       "  </thead>\n",
       "  <tbody>\n",
       "    <tr>\n",
       "      <th>0</th>\n",
       "      <td>My favorite place to watch some movies. I also...</td>\n",
       "      <td>netflix</td>\n",
       "      <td>1</td>\n",
       "    </tr>\n",
       "    <tr>\n",
       "      <th>1</th>\n",
       "      <td>Unbelievable how much user friendly amazon is ...</td>\n",
       "      <td>netflix</td>\n",
       "      <td>1</td>\n",
       "    </tr>\n",
       "    <tr>\n",
       "      <th>2</th>\n",
       "      <td>I have had Netflix for a little over 3 years a...</td>\n",
       "      <td>netflix</td>\n",
       "      <td>1</td>\n",
       "    </tr>\n",
       "    <tr>\n",
       "      <th>3</th>\n",
       "      <td>Lately every time I find a movie that I want t...</td>\n",
       "      <td>netflix</td>\n",
       "      <td>1</td>\n",
       "    </tr>\n",
       "    <tr>\n",
       "      <th>4</th>\n",
       "      <td>Kids were hooked to this crap, so i cut the su...</td>\n",
       "      <td>netflix</td>\n",
       "      <td>1</td>\n",
       "    </tr>\n",
       "    <tr>\n",
       "      <th>5</th>\n",
       "      <td>Why can't Netflix just keep the shows running?...</td>\n",
       "      <td>netflix</td>\n",
       "      <td>1</td>\n",
       "    </tr>\n",
       "    <tr>\n",
       "      <th>6</th>\n",
       "      <td>They have raised the prices to many time and l...</td>\n",
       "      <td>netflix</td>\n",
       "      <td>1</td>\n",
       "    </tr>\n",
       "    <tr>\n",
       "      <th>7</th>\n",
       "      <td>I have looked this site its very much useful a...</td>\n",
       "      <td>netflix</td>\n",
       "      <td>1</td>\n",
       "    </tr>\n",
       "    <tr>\n",
       "      <th>8</th>\n",
       "      <td>Netflix, knows how to do business:  like Amazo...</td>\n",
       "      <td>netflix</td>\n",
       "      <td>1</td>\n",
       "    </tr>\n",
       "    <tr>\n",
       "      <th>9</th>\n",
       "      <td>In my opinion, the best entertainment app in t...</td>\n",
       "      <td>netflix</td>\n",
       "      <td>1</td>\n",
       "    </tr>\n",
       "    <tr>\n",
       "      <th>10</th>\n",
       "      <td>I can't recommend Because Netflix really isn't...</td>\n",
       "      <td>netflix</td>\n",
       "      <td>1</td>\n",
       "    </tr>\n",
       "    <tr>\n",
       "      <th>11</th>\n",
       "      <td>I think that overall Netflix is good. The only...</td>\n",
       "      <td>netflix</td>\n",
       "      <td>1</td>\n",
       "    </tr>\n",
       "    <tr>\n",
       "      <th>12</th>\n",
       "      <td>The movies description is turning me off. Afte...</td>\n",
       "      <td>netflix</td>\n",
       "      <td>1</td>\n",
       "    </tr>\n",
       "    <tr>\n",
       "      <th>13</th>\n",
       "      <td>Just new in NETFLIX, before I was just dreamin...</td>\n",
       "      <td>netflix</td>\n",
       "      <td>1</td>\n",
       "    </tr>\n",
       "    <tr>\n",
       "      <th>14</th>\n",
       "      <td>It's not a website - it's a window into filmog...</td>\n",
       "      <td>netflix</td>\n",
       "      <td>1</td>\n",
       "    </tr>\n",
       "    <tr>\n",
       "      <th>15</th>\n",
       "      <td>Netflix has terrible shows and movies and when...</td>\n",
       "      <td>netflix</td>\n",
       "      <td>1</td>\n",
       "    </tr>\n",
       "    <tr>\n",
       "      <th>16</th>\n",
       "      <td>I got an email last month stating my service f...</td>\n",
       "      <td>netflix</td>\n",
       "      <td>1</td>\n",
       "    </tr>\n",
       "    <tr>\n",
       "      <th>17</th>\n",
       "      <td>Netflix is generally reliable and has content ...</td>\n",
       "      <td>netflix</td>\n",
       "      <td>1</td>\n",
       "    </tr>\n",
       "    <tr>\n",
       "      <th>18</th>\n",
       "      <td>Not feeling the whole \"the best one\" vibe... Y...</td>\n",
       "      <td>netflix</td>\n",
       "      <td>1</td>\n",
       "    </tr>\n",
       "    <tr>\n",
       "      <th>19</th>\n",
       "      <td>Great variety of entertainment. Has its own pr...</td>\n",
       "      <td>netflix</td>\n",
       "      <td>1</td>\n",
       "    </tr>\n",
       "    <tr>\n",
       "      <th>20</th>\n",
       "      <td>Netflix is a good resource. Netflix is my hobb...</td>\n",
       "      <td>netflix</td>\n",
       "      <td>1</td>\n",
       "    </tr>\n",
       "    <tr>\n",
       "      <th>21</th>\n",
       "      <td>I recently joined Netflix again after a hiatus...</td>\n",
       "      <td>netflix</td>\n",
       "      <td>1</td>\n",
       "    </tr>\n",
       "    <tr>\n",
       "      <th>22</th>\n",
       "      <td>Probably the only friend I have nowadays. I lo...</td>\n",
       "      <td>netflix</td>\n",
       "      <td>1</td>\n",
       "    </tr>\n",
       "    <tr>\n",
       "      <th>23</th>\n",
       "      <td>Raising the prices again,are you kidding me?So...</td>\n",
       "      <td>netflix</td>\n",
       "      <td>1</td>\n",
       "    </tr>\n",
       "    <tr>\n",
       "      <th>24</th>\n",
       "      <td>Our whole family LOVES Netflix.  Great to bing...</td>\n",
       "      <td>netflix</td>\n",
       "      <td>1</td>\n",
       "    </tr>\n",
       "    <tr>\n",
       "      <th>25</th>\n",
       "      <td>My favorite place to watch some movies. I also...</td>\n",
       "      <td>netflix</td>\n",
       "      <td>1</td>\n",
       "    </tr>\n",
       "    <tr>\n",
       "      <th>26</th>\n",
       "      <td>Unbelievable how much user friendly amazon is ...</td>\n",
       "      <td>netflix</td>\n",
       "      <td>1</td>\n",
       "    </tr>\n",
       "    <tr>\n",
       "      <th>27</th>\n",
       "      <td>I have had Netflix for a little over 3 years a...</td>\n",
       "      <td>netflix</td>\n",
       "      <td>1</td>\n",
       "    </tr>\n",
       "    <tr>\n",
       "      <th>28</th>\n",
       "      <td>Lately every time I find a movie that I want t...</td>\n",
       "      <td>netflix</td>\n",
       "      <td>1</td>\n",
       "    </tr>\n",
       "    <tr>\n",
       "      <th>29</th>\n",
       "      <td>Kids were hooked to this crap, so i cut the su...</td>\n",
       "      <td>netflix</td>\n",
       "      <td>1</td>\n",
       "    </tr>\n",
       "    <tr>\n",
       "      <th>...</th>\n",
       "      <td>...</td>\n",
       "      <td>...</td>\n",
       "      <td>...</td>\n",
       "    </tr>\n",
       "    <tr>\n",
       "      <th>456</th>\n",
       "      <td>The  Account manager will promise you that you...</td>\n",
       "      <td>realtor</td>\n",
       "      <td>3</td>\n",
       "    </tr>\n",
       "    <tr>\n",
       "      <th>457</th>\n",
       "      <td>I just want to say Mrs, Nastassja Toombs with ...</td>\n",
       "      <td>realtor</td>\n",
       "      <td>3</td>\n",
       "    </tr>\n",
       "    <tr>\n",
       "      <th>458</th>\n",
       "      <td>Cindy Zook was the absolute best. She went abo...</td>\n",
       "      <td>realtor</td>\n",
       "      <td>3</td>\n",
       "    </tr>\n",
       "    <tr>\n",
       "      <th>459</th>\n",
       "      <td>I would highly recommend Joy Luedtke of Barneg...</td>\n",
       "      <td>realtor</td>\n",
       "      <td>3</td>\n",
       "    </tr>\n",
       "    <tr>\n",
       "      <th>460</th>\n",
       "      <td>I left my number with a note that said do not ...</td>\n",
       "      <td>realtor</td>\n",
       "      <td>3</td>\n",
       "    </tr>\n",
       "    <tr>\n",
       "      <th>461</th>\n",
       "      <td>Realtor.com has shifted to a fully lead based ...</td>\n",
       "      <td>realtor</td>\n",
       "      <td>3</td>\n",
       "    </tr>\n",
       "    <tr>\n",
       "      <th>462</th>\n",
       "      <td>I called to request information and pricing on...</td>\n",
       "      <td>realtor</td>\n",
       "      <td>3</td>\n",
       "    </tr>\n",
       "    <tr>\n",
       "      <th>463</th>\n",
       "      <td>I would highly recommend to anyone looking for...</td>\n",
       "      <td>realtor</td>\n",
       "      <td>3</td>\n",
       "    </tr>\n",
       "    <tr>\n",
       "      <th>464</th>\n",
       "      <td>I am sick to death of real estate sites with c...</td>\n",
       "      <td>realtor</td>\n",
       "      <td>3</td>\n",
       "    </tr>\n",
       "    <tr>\n",
       "      <th>465</th>\n",
       "      <td>They sell you on advertising in order to allow...</td>\n",
       "      <td>realtor</td>\n",
       "      <td>3</td>\n",
       "    </tr>\n",
       "    <tr>\n",
       "      <th>466</th>\n",
       "      <td>I caution anyone looking to get in the Real Es...</td>\n",
       "      <td>realtor</td>\n",
       "      <td>3</td>\n",
       "    </tr>\n",
       "    <tr>\n",
       "      <th>467</th>\n",
       "      <td>I wanted to see a house on realtor.com and so ...</td>\n",
       "      <td>realtor</td>\n",
       "      <td>3</td>\n",
       "    </tr>\n",
       "    <tr>\n",
       "      <th>468</th>\n",
       "      <td>Realtor.com is HORRIBLE! Not only are the \"Lea...</td>\n",
       "      <td>realtor</td>\n",
       "      <td>3</td>\n",
       "    </tr>\n",
       "    <tr>\n",
       "      <th>469</th>\n",
       "      <td>Shantel was fantastic. Her customer service an...</td>\n",
       "      <td>realtor</td>\n",
       "      <td>3</td>\n",
       "    </tr>\n",
       "    <tr>\n",
       "      <th>470</th>\n",
       "      <td>Do not ever work with this company. They liste...</td>\n",
       "      <td>realtor</td>\n",
       "      <td>3</td>\n",
       "    </tr>\n",
       "    <tr>\n",
       "      <th>471</th>\n",
       "      <td>I have had good experiences in the past when I...</td>\n",
       "      <td>realtor</td>\n",
       "      <td>3</td>\n",
       "    </tr>\n",
       "    <tr>\n",
       "      <th>472</th>\n",
       "      <td>Losing my Husband of 50 yrs, living in Buena V...</td>\n",
       "      <td>realtor</td>\n",
       "      <td>3</td>\n",
       "    </tr>\n",
       "    <tr>\n",
       "      <th>473</th>\n",
       "      <td>If is need to do a serious pod spread search i...</td>\n",
       "      <td>realtor</td>\n",
       "      <td>3</td>\n",
       "    </tr>\n",
       "    <tr>\n",
       "      <th>474</th>\n",
       "      <td>My home is not even for sale, but they are tra...</td>\n",
       "      <td>realtor</td>\n",
       "      <td>3</td>\n",
       "    </tr>\n",
       "    <tr>\n",
       "      <th>0</th>\n",
       "      <td>No measurable results after more than a year. ...</td>\n",
       "      <td>loopnet</td>\n",
       "      <td>3</td>\n",
       "    </tr>\n",
       "    <tr>\n",
       "      <th>1</th>\n",
       "      <td>Dealing with Loopnet feels a lot like getting ...</td>\n",
       "      <td>loopnet</td>\n",
       "      <td>3</td>\n",
       "    </tr>\n",
       "    <tr>\n",
       "      <th>2</th>\n",
       "      <td>No measurable results after 90 days. Salespeop...</td>\n",
       "      <td>loopnet</td>\n",
       "      <td>3</td>\n",
       "    </tr>\n",
       "    <tr>\n",
       "      <th>3</th>\n",
       "      <td>I neglected to cancel my contract in writing p...</td>\n",
       "      <td>loopnet</td>\n",
       "      <td>3</td>\n",
       "    </tr>\n",
       "    <tr>\n",
       "      <th>4</th>\n",
       "      <td>I had no idea that the site requires you to up...</td>\n",
       "      <td>loopnet</td>\n",
       "      <td>3</td>\n",
       "    </tr>\n",
       "    <tr>\n",
       "      <th>5</th>\n",
       "      <td>Loopnet expects the customer (YOU) to monitor ...</td>\n",
       "      <td>loopnet</td>\n",
       "      <td>3</td>\n",
       "    </tr>\n",
       "    <tr>\n",
       "      <th>6</th>\n",
       "      <td>This appears to be a classic bait and switch o...</td>\n",
       "      <td>loopnet</td>\n",
       "      <td>3</td>\n",
       "    </tr>\n",
       "    <tr>\n",
       "      <th>7</th>\n",
       "      <td>Beware! Website content is usually outdated es...</td>\n",
       "      <td>loopnet</td>\n",
       "      <td>3</td>\n",
       "    </tr>\n",
       "    <tr>\n",
       "      <th>8</th>\n",
       "      <td>Read the fine print!!  Tried to sign up for a ...</td>\n",
       "      <td>loopnet</td>\n",
       "      <td>3</td>\n",
       "    </tr>\n",
       "    <tr>\n",
       "      <th>9</th>\n",
       "      <td>LoopNet cut me off from the website, literally...</td>\n",
       "      <td>loopnet</td>\n",
       "      <td>3</td>\n",
       "    </tr>\n",
       "    <tr>\n",
       "      <th>10</th>\n",
       "      <td>Really the best website of it's kind right now...</td>\n",
       "      <td>loopnet</td>\n",
       "      <td>3</td>\n",
       "    </tr>\n",
       "  </tbody>\n",
       "</table>\n",
       "<p>15901 rows × 3 columns</p>\n",
       "</div>"
      ],
      "text/plain": [
       "                                               content recommender cluster\n",
       "0    My favorite place to watch some movies. I also...     netflix       1\n",
       "1    Unbelievable how much user friendly amazon is ...     netflix       1\n",
       "2    I have had Netflix for a little over 3 years a...     netflix       1\n",
       "3    Lately every time I find a movie that I want t...     netflix       1\n",
       "4    Kids were hooked to this crap, so i cut the su...     netflix       1\n",
       "5    Why can't Netflix just keep the shows running?...     netflix       1\n",
       "6    They have raised the prices to many time and l...     netflix       1\n",
       "7    I have looked this site its very much useful a...     netflix       1\n",
       "8    Netflix, knows how to do business:  like Amazo...     netflix       1\n",
       "9    In my opinion, the best entertainment app in t...     netflix       1\n",
       "10   I can't recommend Because Netflix really isn't...     netflix       1\n",
       "11   I think that overall Netflix is good. The only...     netflix       1\n",
       "12   The movies description is turning me off. Afte...     netflix       1\n",
       "13   Just new in NETFLIX, before I was just dreamin...     netflix       1\n",
       "14   It's not a website - it's a window into filmog...     netflix       1\n",
       "15   Netflix has terrible shows and movies and when...     netflix       1\n",
       "16   I got an email last month stating my service f...     netflix       1\n",
       "17   Netflix is generally reliable and has content ...     netflix       1\n",
       "18   Not feeling the whole \"the best one\" vibe... Y...     netflix       1\n",
       "19   Great variety of entertainment. Has its own pr...     netflix       1\n",
       "20   Netflix is a good resource. Netflix is my hobb...     netflix       1\n",
       "21   I recently joined Netflix again after a hiatus...     netflix       1\n",
       "22   Probably the only friend I have nowadays. I lo...     netflix       1\n",
       "23   Raising the prices again,are you kidding me?So...     netflix       1\n",
       "24   Our whole family LOVES Netflix.  Great to bing...     netflix       1\n",
       "25   My favorite place to watch some movies. I also...     netflix       1\n",
       "26   Unbelievable how much user friendly amazon is ...     netflix       1\n",
       "27   I have had Netflix for a little over 3 years a...     netflix       1\n",
       "28   Lately every time I find a movie that I want t...     netflix       1\n",
       "29   Kids were hooked to this crap, so i cut the su...     netflix       1\n",
       "..                                                 ...         ...     ...\n",
       "456  The  Account manager will promise you that you...     realtor       3\n",
       "457  I just want to say Mrs, Nastassja Toombs with ...     realtor       3\n",
       "458  Cindy Zook was the absolute best. She went abo...     realtor       3\n",
       "459  I would highly recommend Joy Luedtke of Barneg...     realtor       3\n",
       "460  I left my number with a note that said do not ...     realtor       3\n",
       "461  Realtor.com has shifted to a fully lead based ...     realtor       3\n",
       "462  I called to request information and pricing on...     realtor       3\n",
       "463  I would highly recommend to anyone looking for...     realtor       3\n",
       "464  I am sick to death of real estate sites with c...     realtor       3\n",
       "465  They sell you on advertising in order to allow...     realtor       3\n",
       "466  I caution anyone looking to get in the Real Es...     realtor       3\n",
       "467  I wanted to see a house on realtor.com and so ...     realtor       3\n",
       "468  Realtor.com is HORRIBLE! Not only are the \"Lea...     realtor       3\n",
       "469  Shantel was fantastic. Her customer service an...     realtor       3\n",
       "470  Do not ever work with this company. They liste...     realtor       3\n",
       "471  I have had good experiences in the past when I...     realtor       3\n",
       "472  Losing my Husband of 50 yrs, living in Buena V...     realtor       3\n",
       "473  If is need to do a serious pod spread search i...     realtor       3\n",
       "474  My home is not even for sale, but they are tra...     realtor       3\n",
       "0    No measurable results after more than a year. ...     loopnet       3\n",
       "1    Dealing with Loopnet feels a lot like getting ...     loopnet       3\n",
       "2    No measurable results after 90 days. Salespeop...     loopnet       3\n",
       "3    I neglected to cancel my contract in writing p...     loopnet       3\n",
       "4    I had no idea that the site requires you to up...     loopnet       3\n",
       "5    Loopnet expects the customer (YOU) to monitor ...     loopnet       3\n",
       "6    This appears to be a classic bait and switch o...     loopnet       3\n",
       "7    Beware! Website content is usually outdated es...     loopnet       3\n",
       "8    Read the fine print!!  Tried to sign up for a ...     loopnet       3\n",
       "9    LoopNet cut me off from the website, literally...     loopnet       3\n",
       "10   Really the best website of it's kind right now...     loopnet       3\n",
       "\n",
       "[15901 rows x 3 columns]"
      ]
     },
     "execution_count": 35,
     "metadata": {},
     "output_type": "execute_result"
    }
   ],
   "source": [
    "sitejabber_df"
   ]
  },
  {
   "cell_type": "code",
   "execution_count": 34,
   "metadata": {},
   "outputs": [],
   "source": [
    "sitejabber_df.to_csv('/Users/angieryu2202/Desktop/Trust_논문_2019/sitejabber_reviews_2019.tsv', sep = '\\t')"
   ]
  }
 ],
 "metadata": {
  "kernelspec": {
   "display_name": "Python 3",
   "language": "python",
   "name": "python3"
  },
  "language_info": {
   "codemirror_mode": {
    "name": "ipython",
    "version": 3
   },
   "file_extension": ".py",
   "mimetype": "text/x-python",
   "name": "python",
   "nbconvert_exporter": "python",
   "pygments_lexer": "ipython3",
   "version": "3.7.1"
  }
 },
 "nbformat": 4,
 "nbformat_minor": 2
}
